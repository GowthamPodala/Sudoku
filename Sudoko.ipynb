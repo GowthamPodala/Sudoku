{
 "cells": [
  {
   "cell_type": "markdown",
   "metadata": {},
   "source": [
    "# Sudoko"
   ]
  },
  {
   "cell_type": "code",
   "execution_count": 1,
   "metadata": {},
   "outputs": [],
   "source": [
    "a = [[6,9,0,0,0,0,7,0,0],\n",
    "     [0,0,0,0,9,6,0,0,0],\n",
    "     [0,8,0,7,5,3,0,9,0],\n",
    "     [0,2,0,3,7,4,5,6,1],\n",
    "     [3,6,0,0,0,5,0,2,0],\n",
    "     [0,0,0,9,6,0,3,7,8],\n",
    "     [0,0,6,0,3,1,0,8,4],\n",
    "     [0,4,5,8,0,7,6,0,0],\n",
    "     [0,0,0,0,0,0,0,5,7]]"
   ]
  },
  {
   "cell_type": "code",
   "execution_count": 2,
   "metadata": {},
   "outputs": [],
   "source": [
    "def display(x):\n",
    "    for i in range(9):\n",
    "        if (i%3==0 and i!=0):\n",
    "            print('--------------')\n",
    "        for j in range(9):\n",
    "            if (j%3==0 and j!=0):\n",
    "                print('|',end = \"\")\n",
    "            if (j==8):\n",
    "                print(x[i][j])\n",
    "            else:\n",
    "                print(x[i][j],end=\"\")"
   ]
  },
  {
   "cell_type": "code",
   "execution_count": 3,
   "metadata": {},
   "outputs": [
    {
     "name": "stdout",
     "output_type": "stream",
     "text": [
      "690|000|700\n",
      "000|096|000\n",
      "080|753|090\n",
      "--------------\n",
      "020|374|561\n",
      "360|005|020\n",
      "000|960|378\n",
      "--------------\n",
      "006|031|084\n",
      "045|807|600\n",
      "000|000|057\n"
     ]
    }
   ],
   "source": [
    "display(a)"
   ]
  },
  {
   "cell_type": "code",
   "execution_count": 4,
   "metadata": {},
   "outputs": [],
   "source": [
    "def check(x,y,n):\n",
    "    for i in range(9):\n",
    "        if (a[y][i]==n):\n",
    "            return False\n",
    "        if (a[i][x]==n):\n",
    "            return False\n",
    "    x0 = x//3*3\n",
    "    y0 = y//3*3\n",
    "    for i in range(3):\n",
    "        for j in range(3):\n",
    "            if (a[y0+i][x0+j]==n):\n",
    "                return False\n",
    "    return True"
   ]
  },
  {
   "cell_type": "code",
   "execution_count": 5,
   "metadata": {},
   "outputs": [
    {
     "name": "stdout",
     "output_type": "stream",
     "text": [
      "False\n"
     ]
    }
   ],
   "source": [
    "print(check(5,5,9))"
   ]
  },
  {
   "cell_type": "code",
   "execution_count": 6,
   "metadata": {},
   "outputs": [],
   "source": [
    "def solve():\n",
    "    for y in range(9):\n",
    "        for x in range(9):\n",
    "            if (a[y][x]==0):\n",
    "                for n in range(1,10):\n",
    "                    if check(x,y,n):\n",
    "                        a[y][x] = n\n",
    "                        solve()\n",
    "                        a[y][x] = 0\n",
    "                return\n",
    "    display(a)\n",
    "    input(\"Other Solutions...\")"
   ]
  },
  {
   "cell_type": "code",
   "execution_count": 7,
   "metadata": {},
   "outputs": [
    {
     "name": "stdout",
     "output_type": "stream",
     "text": [
      "693|218|745\n",
      "751|496|832\n",
      "482|753|196\n",
      "--------------\n",
      "829|374|561\n",
      "367|185|429\n",
      "514|962|378\n",
      "--------------\n",
      "276|531|984\n",
      "945|827|613\n",
      "138|649|257\n"
     ]
    },
    {
     "name": "stdin",
     "output_type": "stream",
     "text": [
      "Other Solutions... \n"
     ]
    }
   ],
   "source": [
    "solve()"
   ]
  },
  {
   "cell_type": "code",
   "execution_count": null,
   "metadata": {},
   "outputs": [],
   "source": []
  }
 ],
 "metadata": {
  "@deathbeds/jupyterlab-fonts": {
   "fontLicenses": {},
   "fonts": {},
   "styles": {
    ":root": {
     "--jp-code-font-size": "19px"
    }
   }
  },
  "kernelspec": {
   "display_name": "Python 3",
   "language": "python",
   "name": "python3"
  },
  "language_info": {
   "codemirror_mode": {
    "name": "ipython",
    "version": 3
   },
   "file_extension": ".py",
   "mimetype": "text/x-python",
   "name": "python",
   "nbconvert_exporter": "python",
   "pygments_lexer": "ipython3",
   "version": "3.8.3"
  }
 },
 "nbformat": 4,
 "nbformat_minor": 4
}
